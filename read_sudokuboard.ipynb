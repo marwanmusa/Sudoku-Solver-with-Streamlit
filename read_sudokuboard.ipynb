{
 "cells": [
  {
   "cell_type": "code",
   "execution_count": 29,
   "metadata": {},
   "outputs": [
    {
     "name": "stdout",
     "output_type": "stream",
     "text": [
      "[0, 0, 0, 0, 0, 0, 0, 0, 0, 0, 0, 0, 0, 9, 0, 0, 0, 0, 0, 0, 0, 0, 2, 0, 0, 0, 0, 0, 0, 0, 0, 3, 0, 0, 0, 0, 1, 0, 0, 9, 0, 4, 0, 0, 3, 0, 0, 5, 0, 0, 0, 8, 0, 0, 0, 0, 2, 0, 0, 0, 6, 0, 0, 0, 0, 8, 0, 0, 0, 7, 0, 0, 0, 3, 0, 6, 0, 8, 0, 1, 0]\n"
     ]
    }
   ],
   "source": [
    "def import_boardsudoku(filename):\n",
    "    file = open(filename,'r')\n",
    "    content = file.read()\n",
    "    file.close()\n",
    "    return list(map(int, content.replace(\"\\n\", \"\").split(',')))\n",
    "\n",
    "print(import_boardsudoku(\"sudoku_hs.txt\"))"
   ]
  }
 ],
 "metadata": {
  "kernelspec": {
   "display_name": "Python 3.9.12",
   "language": "python",
   "name": "python3"
  },
  "language_info": {
   "codemirror_mode": {
    "name": "ipython",
    "version": 3
   },
   "file_extension": ".py",
   "mimetype": "text/x-python",
   "name": "python",
   "nbconvert_exporter": "python",
   "pygments_lexer": "ipython3",
   "version": "3.10.11"
  },
  "orig_nbformat": 4,
  "vscode": {
   "interpreter": {
    "hash": "a71a9e4fb054fff428071484f7faa898cb9ecb31a518fe88e3463da9af879578"
   }
  }
 },
 "nbformat": 4,
 "nbformat_minor": 2
}
