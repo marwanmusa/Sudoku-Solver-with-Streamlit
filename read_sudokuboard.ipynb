{
 "cells": [
  {
   "cell_type": "code",
   "execution_count": 4,
   "metadata": {},
   "outputs": [
    {
     "ename": "TypeError",
     "evalue": "float() argument must be a string or a number, not 'list'",
     "output_type": "error",
     "traceback": [
      "\u001b[1;31m---------------------------------------------------------------------------\u001b[0m",
      "\u001b[1;31mTypeError\u001b[0m                                 Traceback (most recent call last)",
      "\u001b[1;32mf:\\Test Baezeni\\Sudoku_Solver_LP\\coba.ipynb Cell 1\u001b[0m in \u001b[0;36m<cell line: 17>\u001b[1;34m()\u001b[0m\n\u001b[0;32m     <a href='vscode-notebook-cell:/f%3A/Test%20Baezeni/Sudoku_Solver_LP/coba.ipynb#W0sZmlsZQ%3D%3D?line=13'>14</a>\u001b[0m                 hs[i][j]\u001b[39m=\u001b[39m\u001b[39mint\u001b[39m(hs[i][j])\n\u001b[0;32m     <a href='vscode-notebook-cell:/f%3A/Test%20Baezeni/Sudoku_Solver_LP/coba.ipynb#W0sZmlsZQ%3D%3D?line=15'>16</a>\u001b[0m     \u001b[39mreturn\u001b[39;00m hs\n\u001b[1;32m---> <a href='vscode-notebook-cell:/f%3A/Test%20Baezeni/Sudoku_Solver_LP/coba.ipynb#W0sZmlsZQ%3D%3D?line=16'>17</a>\u001b[0m \u001b[39mprint\u001b[39m(import_boardsudoku(\u001b[39m\"\u001b[39;49m\u001b[39msudoku_hs.txt\u001b[39;49m\u001b[39m\"\u001b[39;49m))\n",
      "\u001b[1;32mf:\\Test Baezeni\\Sudoku_Solver_LP\\coba.ipynb Cell 1\u001b[0m in \u001b[0;36mimport_boardsudoku\u001b[1;34m(filename)\u001b[0m\n\u001b[0;32m      <a href='vscode-notebook-cell:/f%3A/Test%20Baezeni/Sudoku_Solver_LP/coba.ipynb#W0sZmlsZQ%3D%3D?line=7'>8</a>\u001b[0m \u001b[39mfor\u001b[39;00m line \u001b[39min\u001b[39;00m content:\n\u001b[0;32m      <a href='vscode-notebook-cell:/f%3A/Test%20Baezeni/Sudoku_Solver_LP/coba.ipynb#W0sZmlsZQ%3D%3D?line=8'>9</a>\u001b[0m     hs_line \u001b[39m=\u001b[39m line\u001b[39m.\u001b[39mreplace(\u001b[39m\"\u001b[39m\u001b[39m\\n\u001b[39;00m\u001b[39m\"\u001b[39m,\u001b[39m\"\u001b[39m\u001b[39m \u001b[39m\u001b[39m\"\u001b[39m)\u001b[39m.\u001b[39msplit(\u001b[39m\"\u001b[39m\u001b[39m,\u001b[39m\u001b[39m\"\u001b[39m)\n\u001b[1;32m---> <a href='vscode-notebook-cell:/f%3A/Test%20Baezeni/Sudoku_Solver_LP/coba.ipynb#W0sZmlsZQ%3D%3D?line=9'>10</a>\u001b[0m     hs\u001b[39m.\u001b[39mappend(\u001b[39mfloat\u001b[39;49m(hs_line))\n\u001b[0;32m     <a href='vscode-notebook-cell:/f%3A/Test%20Baezeni/Sudoku_Solver_LP/coba.ipynb#W0sZmlsZQ%3D%3D?line=11'>12</a>\u001b[0m \u001b[39mfor\u001b[39;00m i \u001b[39min\u001b[39;00m \u001b[39mrange\u001b[39m(\u001b[39mlen\u001b[39m(hs)):\n\u001b[0;32m     <a href='vscode-notebook-cell:/f%3A/Test%20Baezeni/Sudoku_Solver_LP/coba.ipynb#W0sZmlsZQ%3D%3D?line=12'>13</a>\u001b[0m     \u001b[39mfor\u001b[39;00m j \u001b[39min\u001b[39;00m \u001b[39mrange\u001b[39m(\u001b[39mlen\u001b[39m(hs[i])):\n",
      "\u001b[1;31mTypeError\u001b[0m: float() argument must be a string or a number, not 'list'"
     ]
    }
   ],
   "source": [
    "def import_boardsudoku(filename):\n",
    "    file = open(filename,'r')\n",
    "    content = file.read()\n",
    "    file.close()\n",
    "    # return content\n",
    "\n",
    "    hs = []\n",
    "    for line in content:\n",
    "        hs_line = line.replace(\"\\n\",\" \").split(\",\")\n",
    "        hs.append(float(hs_line))\n",
    "\n",
    "    for i in range(len(hs)):\n",
    "        for j in range(len(hs[i])):\n",
    "                hs[i][j]=int(hs[i][j])\n",
    "\n",
    "    return hs\n",
    "print(import_boardsudoku(\"sudoku_hs.txt\"))"
   ]
  }
 ],
 "metadata": {
  "kernelspec": {
   "display_name": "Python 3.9.12",
   "language": "python",
   "name": "python3"
  },
  "language_info": {
   "codemirror_mode": {
    "name": "ipython",
    "version": 3
   },
   "file_extension": ".py",
   "mimetype": "text/x-python",
   "name": "python",
   "nbconvert_exporter": "python",
   "pygments_lexer": "ipython3",
   "version": "3.9.12"
  },
  "orig_nbformat": 4,
  "vscode": {
   "interpreter": {
    "hash": "a71a9e4fb054fff428071484f7faa898cb9ecb31a518fe88e3463da9af879578"
   }
  }
 },
 "nbformat": 4,
 "nbformat_minor": 2
}
