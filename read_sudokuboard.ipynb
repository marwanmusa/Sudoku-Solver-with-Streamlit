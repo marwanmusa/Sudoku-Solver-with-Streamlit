{
 "cells": [
  {
   "cell_type": "code",
   "execution_count": 3,
   "metadata": {},
   "outputs": [
    {
     "ename": "ValueError",
     "evalue": "invalid literal for int() with base 10: '['",
     "output_type": "error",
     "traceback": [
      "\u001b[1;31m---------------------------------------------------------------------------\u001b[0m",
      "\u001b[1;31mValueError\u001b[0m                                Traceback (most recent call last)",
      "\u001b[1;32mf:\\Test Baezeni\\fixed file\\Sudoku-Solver-with-Streamlit\\read_sudokuboard.ipynb Cell 1\u001b[0m in \u001b[0;36m<cell line: 17>\u001b[1;34m()\u001b[0m\n\u001b[0;32m     <a href='vscode-notebook-cell:/f%3A/Test%20Baezeni/fixed%20file/Sudoku-Solver-with-Streamlit/read_sudokuboard.ipynb#W0sZmlsZQ%3D%3D?line=13'>14</a>\u001b[0m                 hs[i][j]\u001b[39m=\u001b[39m\u001b[39mint\u001b[39m(hs[i][j])\n\u001b[0;32m     <a href='vscode-notebook-cell:/f%3A/Test%20Baezeni/fixed%20file/Sudoku-Solver-with-Streamlit/read_sudokuboard.ipynb#W0sZmlsZQ%3D%3D?line=15'>16</a>\u001b[0m     \u001b[39mreturn\u001b[39;00m hs\n\u001b[1;32m---> <a href='vscode-notebook-cell:/f%3A/Test%20Baezeni/fixed%20file/Sudoku-Solver-with-Streamlit/read_sudokuboard.ipynb#W0sZmlsZQ%3D%3D?line=16'>17</a>\u001b[0m \u001b[39mprint\u001b[39m(import_boardsudoku(\u001b[39m\"\u001b[39;49m\u001b[39msudoku_hs.txt\u001b[39;49m\u001b[39m\"\u001b[39;49m))\n",
      "\u001b[1;32mf:\\Test Baezeni\\fixed file\\Sudoku-Solver-with-Streamlit\\read_sudokuboard.ipynb Cell 1\u001b[0m in \u001b[0;36mimport_boardsudoku\u001b[1;34m(filename)\u001b[0m\n\u001b[0;32m     <a href='vscode-notebook-cell:/f%3A/Test%20Baezeni/fixed%20file/Sudoku-Solver-with-Streamlit/read_sudokuboard.ipynb#W0sZmlsZQ%3D%3D?line=11'>12</a>\u001b[0m \u001b[39mfor\u001b[39;00m i \u001b[39min\u001b[39;00m \u001b[39mrange\u001b[39m(\u001b[39mlen\u001b[39m(hs)):\n\u001b[0;32m     <a href='vscode-notebook-cell:/f%3A/Test%20Baezeni/fixed%20file/Sudoku-Solver-with-Streamlit/read_sudokuboard.ipynb#W0sZmlsZQ%3D%3D?line=12'>13</a>\u001b[0m     \u001b[39mfor\u001b[39;00m j \u001b[39min\u001b[39;00m \u001b[39mrange\u001b[39m(\u001b[39mlen\u001b[39m(hs[i])):\n\u001b[1;32m---> <a href='vscode-notebook-cell:/f%3A/Test%20Baezeni/fixed%20file/Sudoku-Solver-with-Streamlit/read_sudokuboard.ipynb#W0sZmlsZQ%3D%3D?line=13'>14</a>\u001b[0m             hs[i][j]\u001b[39m=\u001b[39m\u001b[39mint\u001b[39;49m(hs[i][j])\n\u001b[0;32m     <a href='vscode-notebook-cell:/f%3A/Test%20Baezeni/fixed%20file/Sudoku-Solver-with-Streamlit/read_sudokuboard.ipynb#W0sZmlsZQ%3D%3D?line=15'>16</a>\u001b[0m \u001b[39mreturn\u001b[39;00m hs\n",
      "\u001b[1;31mValueError\u001b[0m: invalid literal for int() with base 10: '['"
     ]
    }
   ],
   "source": [
    "def import_boardsudoku(filename):\n",
    "    file = open(filename,'r')\n",
    "    content = file.read()\n",
    "    file.close()\n",
    "    # return content\n",
    "\n",
    "    hs = []\n",
    "    for line in content:\n",
    "        hs_line = line.replace(\"\\n\",\" \").split(\",\")\n",
    "        hs.append(hs_line)\n",
    "\n",
    "    for i in range(len(hs)):\n",
    "        for j in range(len(hs[i])):\n",
    "                hs[i][j]=int(hs[i][j])\n",
    "\n",
    "    return hs\n",
    "print(import_boardsudoku(\"sudoku_hs.txt\"))"
   ]
  },
  {
   "cell_type": "markdown",
   "metadata": {},
   "source": [
    "We tried to solve the error with the solution from https://stackoverflow.com/questions/1841565/valueerror-invalid-literal-for-int-with-base-10 but still got error."
   ]
  },
  {
   "cell_type": "code",
   "execution_count": 4,
   "metadata": {},
   "outputs": [
    {
     "ename": "ValueError",
     "evalue": "could not convert string to float: '['",
     "output_type": "error",
     "traceback": [
      "\u001b[1;31m---------------------------------------------------------------------------\u001b[0m",
      "\u001b[1;31mValueError\u001b[0m                                Traceback (most recent call last)",
      "\u001b[1;32mf:\\Test Baezeni\\fixed file\\Sudoku-Solver-with-Streamlit\\read_sudokuboard.ipynb Cell 3\u001b[0m in \u001b[0;36m<cell line: 17>\u001b[1;34m()\u001b[0m\n\u001b[0;32m     <a href='vscode-notebook-cell:/f%3A/Test%20Baezeni/fixed%20file/Sudoku-Solver-with-Streamlit/read_sudokuboard.ipynb#W2sZmlsZQ%3D%3D?line=13'>14</a>\u001b[0m                 hs[i][j]\u001b[39m=\u001b[39m\u001b[39mint\u001b[39m(\u001b[39mfloat\u001b[39m(hs[i][j])) \u001b[39m#float in int\u001b[39;00m\n\u001b[0;32m     <a href='vscode-notebook-cell:/f%3A/Test%20Baezeni/fixed%20file/Sudoku-Solver-with-Streamlit/read_sudokuboard.ipynb#W2sZmlsZQ%3D%3D?line=15'>16</a>\u001b[0m     \u001b[39mreturn\u001b[39;00m hs\n\u001b[1;32m---> <a href='vscode-notebook-cell:/f%3A/Test%20Baezeni/fixed%20file/Sudoku-Solver-with-Streamlit/read_sudokuboard.ipynb#W2sZmlsZQ%3D%3D?line=16'>17</a>\u001b[0m \u001b[39mprint\u001b[39m(import_boardsudoku(\u001b[39m\"\u001b[39;49m\u001b[39msudoku_hs.txt\u001b[39;49m\u001b[39m\"\u001b[39;49m))\n",
      "\u001b[1;32mf:\\Test Baezeni\\fixed file\\Sudoku-Solver-with-Streamlit\\read_sudokuboard.ipynb Cell 3\u001b[0m in \u001b[0;36mimport_boardsudoku\u001b[1;34m(filename)\u001b[0m\n\u001b[0;32m     <a href='vscode-notebook-cell:/f%3A/Test%20Baezeni/fixed%20file/Sudoku-Solver-with-Streamlit/read_sudokuboard.ipynb#W2sZmlsZQ%3D%3D?line=11'>12</a>\u001b[0m \u001b[39mfor\u001b[39;00m i \u001b[39min\u001b[39;00m \u001b[39mrange\u001b[39m(\u001b[39mlen\u001b[39m(hs)):\n\u001b[0;32m     <a href='vscode-notebook-cell:/f%3A/Test%20Baezeni/fixed%20file/Sudoku-Solver-with-Streamlit/read_sudokuboard.ipynb#W2sZmlsZQ%3D%3D?line=12'>13</a>\u001b[0m     \u001b[39mfor\u001b[39;00m j \u001b[39min\u001b[39;00m \u001b[39mrange\u001b[39m(\u001b[39mlen\u001b[39m(hs[i])):\n\u001b[1;32m---> <a href='vscode-notebook-cell:/f%3A/Test%20Baezeni/fixed%20file/Sudoku-Solver-with-Streamlit/read_sudokuboard.ipynb#W2sZmlsZQ%3D%3D?line=13'>14</a>\u001b[0m             hs[i][j]\u001b[39m=\u001b[39m\u001b[39mint\u001b[39m(\u001b[39mfloat\u001b[39;49m(hs[i][j])) \u001b[39m#float in int\u001b[39;00m\n\u001b[0;32m     <a href='vscode-notebook-cell:/f%3A/Test%20Baezeni/fixed%20file/Sudoku-Solver-with-Streamlit/read_sudokuboard.ipynb#W2sZmlsZQ%3D%3D?line=15'>16</a>\u001b[0m \u001b[39mreturn\u001b[39;00m hs\n",
      "\u001b[1;31mValueError\u001b[0m: could not convert string to float: '['"
     ]
    }
   ],
   "source": [
    "def import_boardsudoku(filename):\n",
    "    file = open(filename,'r')\n",
    "    content = file.read()\n",
    "    file.close()\n",
    "    # return content\n",
    "\n",
    "    hs = []\n",
    "    for line in content:\n",
    "        hs_line = line.replace(\"\\n\",\" \").split(\",\")\n",
    "        hs.append(hs_line)\n",
    "\n",
    "    for i in range(len(hs)):\n",
    "        for j in range(len(hs[i])):\n",
    "                hs[i][j]=int(float(hs[i][j])) #float in int\n",
    "\n",
    "    return hs\n",
    "print(import_boardsudoku(\"sudoku_hs.txt\"))"
   ]
  }
 ],
 "metadata": {
  "kernelspec": {
   "display_name": "Python 3.9.12",
   "language": "python",
   "name": "python3"
  },
  "language_info": {
   "codemirror_mode": {
    "name": "ipython",
    "version": 3
   },
   "file_extension": ".py",
   "mimetype": "text/x-python",
   "name": "python",
   "nbconvert_exporter": "python",
   "pygments_lexer": "ipython3",
   "version": "3.9.12"
  },
  "orig_nbformat": 4,
  "vscode": {
   "interpreter": {
    "hash": "a71a9e4fb054fff428071484f7faa898cb9ecb31a518fe88e3463da9af879578"
   }
  }
 },
 "nbformat": 4,
 "nbformat_minor": 2
}
