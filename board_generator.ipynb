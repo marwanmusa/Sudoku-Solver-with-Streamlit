{
 "cells": [
  {
   "cell_type": "code",
   "execution_count": 1,
   "metadata": {},
   "outputs": [
    {
     "name": "stdout",
     "output_type": "stream",
     "text": [
      "[6, 1, 5, 4, 3, 7, 8, 2, 9]\n",
      "[8, 9, 2, 1, 5, 6, 7, 3, 4]\n",
      "[7, 4, 3, 9, 2, 8, 6, 5, 1]\n",
      "[5, 8, 9, 6, 1, 3, 2, 4, 7]\n",
      "[3, 6, 1, 7, 4, 2, 5, 9, 8]\n",
      "[2, 7, 4, 8, 9, 5, 3, 1, 6]\n",
      "[1, 5, 8, 3, 6, 4, 9, 7, 2]\n",
      "[4, 3, 6, 2, 7, 9, 1, 8, 5]\n",
      "[9, 2, 7, 5, 8, 1, 4, 6, 3]\n"
     ]
    }
   ],
   "source": [
    "base  = 3\n",
    "side  = base*base\n",
    "\n",
    "# pattern for a baseline valid solution\n",
    "def pattern(r,c): return (base*(r%base)+r//base+c)%side\n",
    "\n",
    "# randomize rows, columns and numbers (of valid base pattern)\n",
    "from random import sample\n",
    "def shuffle(s): return sample(s,len(s)) \n",
    "rBase = range(base) \n",
    "rows  = [ g*base + r for g in shuffle(rBase) for r in shuffle(rBase) ] \n",
    "cols  = [ g*base + c for g in shuffle(rBase) for c in shuffle(rBase) ]\n",
    "nums  = shuffle(range(1,base*base+1))\n",
    "\n",
    "# produce board using randomized baseline pattern\n",
    "board = [ [nums[pattern(r,c)] for c in cols] for r in rows ]\n",
    "\n",
    "for line in board: print(line)"
   ]
  }
 ],
 "metadata": {
  "kernelspec": {
   "display_name": "Python 3.10.5 64-bit",
   "language": "python",
   "name": "python3"
  },
  "language_info": {
   "codemirror_mode": {
    "name": "ipython",
    "version": 3
   },
   "file_extension": ".py",
   "mimetype": "text/x-python",
   "name": "python",
   "nbconvert_exporter": "python",
   "pygments_lexer": "ipython3",
   "version": "3.10.5"
  },
  "orig_nbformat": 4,
  "vscode": {
   "interpreter": {
    "hash": "213524bb45a1aeaf737b1d8c77d7b8db5d425938d9dffc5f4bc6fe6dd3324700"
   }
  }
 },
 "nbformat": 4,
 "nbformat_minor": 2
}
